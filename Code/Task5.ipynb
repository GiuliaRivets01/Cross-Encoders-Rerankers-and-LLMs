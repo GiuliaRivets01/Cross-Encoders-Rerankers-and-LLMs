{
  "nbformat": 4,
  "nbformat_minor": 0,
  "metadata": {
    "colab": {
      "provenance": [],
      "gpuType": "T4"
    },
    "kernelspec": {
      "name": "python3",
      "display_name": "Python 3"
    },
    "language_info": {
      "name": "python"
    },
    "widgets": {
      "application/vnd.jupyter.widget-state+json": {
        "5f9454a7fddf461cbf47d35755c468a6": {
          "model_module": "@jupyter-widgets/controls",
          "model_name": "HBoxModel",
          "model_module_version": "1.5.0",
          "state": {
            "_dom_classes": [],
            "_model_module": "@jupyter-widgets/controls",
            "_model_module_version": "1.5.0",
            "_model_name": "HBoxModel",
            "_view_count": null,
            "_view_module": "@jupyter-widgets/controls",
            "_view_module_version": "1.5.0",
            "_view_name": "HBoxView",
            "box_style": "",
            "children": [
              "IPY_MODEL_c4ff7630ce0b4a6da9bfed719dad0937",
              "IPY_MODEL_d15336b7ab294fe7b97a442bdf8801bf",
              "IPY_MODEL_b6dd2ddf4d2e4da1b6ed737e59126fb8"
            ],
            "layout": "IPY_MODEL_5711f4d62a4d40e3bddb30a2464749b3"
          }
        },
        "c4ff7630ce0b4a6da9bfed719dad0937": {
          "model_module": "@jupyter-widgets/controls",
          "model_name": "HTMLModel",
          "model_module_version": "1.5.0",
          "state": {
            "_dom_classes": [],
            "_model_module": "@jupyter-widgets/controls",
            "_model_module_version": "1.5.0",
            "_model_name": "HTMLModel",
            "_view_count": null,
            "_view_module": "@jupyter-widgets/controls",
            "_view_module_version": "1.5.0",
            "_view_name": "HTMLView",
            "description": "",
            "description_tooltip": null,
            "layout": "IPY_MODEL_92699454b4d44a3e9b3b98a927ee122b",
            "placeholder": "​",
            "style": "IPY_MODEL_5fa8839a6f014d7ab38a48b3e45f0132",
            "value": "100%"
          }
        },
        "d15336b7ab294fe7b97a442bdf8801bf": {
          "model_module": "@jupyter-widgets/controls",
          "model_name": "FloatProgressModel",
          "model_module_version": "1.5.0",
          "state": {
            "_dom_classes": [],
            "_model_module": "@jupyter-widgets/controls",
            "_model_module_version": "1.5.0",
            "_model_name": "FloatProgressModel",
            "_view_count": null,
            "_view_module": "@jupyter-widgets/controls",
            "_view_module_version": "1.5.0",
            "_view_name": "ProgressView",
            "bar_style": "success",
            "description": "",
            "description_tooltip": null,
            "layout": "IPY_MODEL_04ee92437ffe4b85ab0e1e5d40f568db",
            "max": 4276,
            "min": 0,
            "orientation": "horizontal",
            "style": "IPY_MODEL_ab934b15436d46248db5a73c79d6f36b",
            "value": 4276
          }
        },
        "b6dd2ddf4d2e4da1b6ed737e59126fb8": {
          "model_module": "@jupyter-widgets/controls",
          "model_name": "HTMLModel",
          "model_module_version": "1.5.0",
          "state": {
            "_dom_classes": [],
            "_model_module": "@jupyter-widgets/controls",
            "_model_module_version": "1.5.0",
            "_model_name": "HTMLModel",
            "_view_count": null,
            "_view_module": "@jupyter-widgets/controls",
            "_view_module_version": "1.5.0",
            "_view_name": "HTMLView",
            "description": "",
            "description_tooltip": null,
            "layout": "IPY_MODEL_587a55f7c4f643519c02423effafa1bc",
            "placeholder": "​",
            "style": "IPY_MODEL_11bcdbe9450c4482a9838509d50c9900",
            "value": " 4.28k/4.28k [00:00&lt;00:00, 270kB/s]"
          }
        },
        "5711f4d62a4d40e3bddb30a2464749b3": {
          "model_module": "@jupyter-widgets/base",
          "model_name": "LayoutModel",
          "model_module_version": "1.2.0",
          "state": {
            "_model_module": "@jupyter-widgets/base",
            "_model_module_version": "1.2.0",
            "_model_name": "LayoutModel",
            "_view_count": null,
            "_view_module": "@jupyter-widgets/base",
            "_view_module_version": "1.2.0",
            "_view_name": "LayoutView",
            "align_content": null,
            "align_items": null,
            "align_self": null,
            "border": null,
            "bottom": null,
            "display": null,
            "flex": null,
            "flex_flow": null,
            "grid_area": null,
            "grid_auto_columns": null,
            "grid_auto_flow": null,
            "grid_auto_rows": null,
            "grid_column": null,
            "grid_gap": null,
            "grid_row": null,
            "grid_template_areas": null,
            "grid_template_columns": null,
            "grid_template_rows": null,
            "height": null,
            "justify_content": null,
            "justify_items": null,
            "left": null,
            "margin": null,
            "max_height": null,
            "max_width": null,
            "min_height": null,
            "min_width": null,
            "object_fit": null,
            "object_position": null,
            "order": null,
            "overflow": null,
            "overflow_x": null,
            "overflow_y": null,
            "padding": null,
            "right": null,
            "top": null,
            "visibility": null,
            "width": null
          }
        },
        "92699454b4d44a3e9b3b98a927ee122b": {
          "model_module": "@jupyter-widgets/base",
          "model_name": "LayoutModel",
          "model_module_version": "1.2.0",
          "state": {
            "_model_module": "@jupyter-widgets/base",
            "_model_module_version": "1.2.0",
            "_model_name": "LayoutModel",
            "_view_count": null,
            "_view_module": "@jupyter-widgets/base",
            "_view_module_version": "1.2.0",
            "_view_name": "LayoutView",
            "align_content": null,
            "align_items": null,
            "align_self": null,
            "border": null,
            "bottom": null,
            "display": null,
            "flex": null,
            "flex_flow": null,
            "grid_area": null,
            "grid_auto_columns": null,
            "grid_auto_flow": null,
            "grid_auto_rows": null,
            "grid_column": null,
            "grid_gap": null,
            "grid_row": null,
            "grid_template_areas": null,
            "grid_template_columns": null,
            "grid_template_rows": null,
            "height": null,
            "justify_content": null,
            "justify_items": null,
            "left": null,
            "margin": null,
            "max_height": null,
            "max_width": null,
            "min_height": null,
            "min_width": null,
            "object_fit": null,
            "object_position": null,
            "order": null,
            "overflow": null,
            "overflow_x": null,
            "overflow_y": null,
            "padding": null,
            "right": null,
            "top": null,
            "visibility": null,
            "width": null
          }
        },
        "5fa8839a6f014d7ab38a48b3e45f0132": {
          "model_module": "@jupyter-widgets/controls",
          "model_name": "DescriptionStyleModel",
          "model_module_version": "1.5.0",
          "state": {
            "_model_module": "@jupyter-widgets/controls",
            "_model_module_version": "1.5.0",
            "_model_name": "DescriptionStyleModel",
            "_view_count": null,
            "_view_module": "@jupyter-widgets/base",
            "_view_module_version": "1.2.0",
            "_view_name": "StyleView",
            "description_width": ""
          }
        },
        "04ee92437ffe4b85ab0e1e5d40f568db": {
          "model_module": "@jupyter-widgets/base",
          "model_name": "LayoutModel",
          "model_module_version": "1.2.0",
          "state": {
            "_model_module": "@jupyter-widgets/base",
            "_model_module_version": "1.2.0",
            "_model_name": "LayoutModel",
            "_view_count": null,
            "_view_module": "@jupyter-widgets/base",
            "_view_module_version": "1.2.0",
            "_view_name": "LayoutView",
            "align_content": null,
            "align_items": null,
            "align_self": null,
            "border": null,
            "bottom": null,
            "display": null,
            "flex": null,
            "flex_flow": null,
            "grid_area": null,
            "grid_auto_columns": null,
            "grid_auto_flow": null,
            "grid_auto_rows": null,
            "grid_column": null,
            "grid_gap": null,
            "grid_row": null,
            "grid_template_areas": null,
            "grid_template_columns": null,
            "grid_template_rows": null,
            "height": null,
            "justify_content": null,
            "justify_items": null,
            "left": null,
            "margin": null,
            "max_height": null,
            "max_width": null,
            "min_height": null,
            "min_width": null,
            "object_fit": null,
            "object_position": null,
            "order": null,
            "overflow": null,
            "overflow_x": null,
            "overflow_y": null,
            "padding": null,
            "right": null,
            "top": null,
            "visibility": null,
            "width": null
          }
        },
        "ab934b15436d46248db5a73c79d6f36b": {
          "model_module": "@jupyter-widgets/controls",
          "model_name": "ProgressStyleModel",
          "model_module_version": "1.5.0",
          "state": {
            "_model_module": "@jupyter-widgets/controls",
            "_model_module_version": "1.5.0",
            "_model_name": "ProgressStyleModel",
            "_view_count": null,
            "_view_module": "@jupyter-widgets/base",
            "_view_module_version": "1.2.0",
            "_view_name": "StyleView",
            "bar_color": null,
            "description_width": ""
          }
        },
        "587a55f7c4f643519c02423effafa1bc": {
          "model_module": "@jupyter-widgets/base",
          "model_name": "LayoutModel",
          "model_module_version": "1.2.0",
          "state": {
            "_model_module": "@jupyter-widgets/base",
            "_model_module_version": "1.2.0",
            "_model_name": "LayoutModel",
            "_view_count": null,
            "_view_module": "@jupyter-widgets/base",
            "_view_module_version": "1.2.0",
            "_view_name": "LayoutView",
            "align_content": null,
            "align_items": null,
            "align_self": null,
            "border": null,
            "bottom": null,
            "display": null,
            "flex": null,
            "flex_flow": null,
            "grid_area": null,
            "grid_auto_columns": null,
            "grid_auto_flow": null,
            "grid_auto_rows": null,
            "grid_column": null,
            "grid_gap": null,
            "grid_row": null,
            "grid_template_areas": null,
            "grid_template_columns": null,
            "grid_template_rows": null,
            "height": null,
            "justify_content": null,
            "justify_items": null,
            "left": null,
            "margin": null,
            "max_height": null,
            "max_width": null,
            "min_height": null,
            "min_width": null,
            "object_fit": null,
            "object_position": null,
            "order": null,
            "overflow": null,
            "overflow_x": null,
            "overflow_y": null,
            "padding": null,
            "right": null,
            "top": null,
            "visibility": null,
            "width": null
          }
        },
        "11bcdbe9450c4482a9838509d50c9900": {
          "model_module": "@jupyter-widgets/controls",
          "model_name": "DescriptionStyleModel",
          "model_module_version": "1.5.0",
          "state": {
            "_model_module": "@jupyter-widgets/controls",
            "_model_module_version": "1.5.0",
            "_model_name": "DescriptionStyleModel",
            "_view_count": null,
            "_view_module": "@jupyter-widgets/base",
            "_view_module_version": "1.2.0",
            "_view_name": "StyleView",
            "description_width": ""
          }
        },
        "f050554c17264a7aa9990f80badf9ae3": {
          "model_module": "@jupyter-widgets/controls",
          "model_name": "HBoxModel",
          "model_module_version": "1.5.0",
          "state": {
            "_dom_classes": [],
            "_model_module": "@jupyter-widgets/controls",
            "_model_module_version": "1.5.0",
            "_model_name": "HBoxModel",
            "_view_count": null,
            "_view_module": "@jupyter-widgets/controls",
            "_view_module_version": "1.5.0",
            "_view_name": "HBoxView",
            "box_style": "",
            "children": [
              "IPY_MODEL_2e39b8facbc54639a02db44ba5c02e22",
              "IPY_MODEL_1729f002db564accbdcd8e09edee3259",
              "IPY_MODEL_569e9bebe8a34813ba21780f99771f54"
            ],
            "layout": "IPY_MODEL_769ce728c71d4e8899faf914148bf73e"
          }
        },
        "2e39b8facbc54639a02db44ba5c02e22": {
          "model_module": "@jupyter-widgets/controls",
          "model_name": "HTMLModel",
          "model_module_version": "1.5.0",
          "state": {
            "_dom_classes": [],
            "_model_module": "@jupyter-widgets/controls",
            "_model_module_version": "1.5.0",
            "_model_name": "HTMLModel",
            "_view_count": null,
            "_view_module": "@jupyter-widgets/controls",
            "_view_module_version": "1.5.0",
            "_view_name": "HTMLView",
            "description": "",
            "description_tooltip": null,
            "layout": "IPY_MODEL_1282140dc86645178a993e7b8aad4361",
            "placeholder": "​",
            "style": "IPY_MODEL_bd96f0bd7bd54992a717681fb0828ad5",
            "value": "100%"
          }
        },
        "1729f002db564accbdcd8e09edee3259": {
          "model_module": "@jupyter-widgets/controls",
          "model_name": "FloatProgressModel",
          "model_module_version": "1.5.0",
          "state": {
            "_dom_classes": [],
            "_model_module": "@jupyter-widgets/controls",
            "_model_module_version": "1.5.0",
            "_model_name": "FloatProgressModel",
            "_view_count": null,
            "_view_module": "@jupyter-widgets/controls",
            "_view_module_version": "1.5.0",
            "_view_name": "ProgressView",
            "bar_style": "success",
            "description": "",
            "description_tooltip": null,
            "layout": "IPY_MODEL_4baa9bfdeaec43fba92fa9482ed8cea0",
            "max": 187092,
            "min": 0,
            "orientation": "horizontal",
            "style": "IPY_MODEL_3bc6b32ed4ad41cda249aa4dfc47df08",
            "value": 187092
          }
        },
        "569e9bebe8a34813ba21780f99771f54": {
          "model_module": "@jupyter-widgets/controls",
          "model_name": "HTMLModel",
          "model_module_version": "1.5.0",
          "state": {
            "_dom_classes": [],
            "_model_module": "@jupyter-widgets/controls",
            "_model_module_version": "1.5.0",
            "_model_name": "HTMLModel",
            "_view_count": null,
            "_view_module": "@jupyter-widgets/controls",
            "_view_module_version": "1.5.0",
            "_view_name": "HTMLView",
            "description": "",
            "description_tooltip": null,
            "layout": "IPY_MODEL_0609222e10374f2684ead8ca1b2ac0cc",
            "placeholder": "​",
            "style": "IPY_MODEL_2e5ea90c8ad948a08d53b471cc8a791c",
            "value": " 187k/187k [00:00&lt;00:00, 1.35MB/s]"
          }
        },
        "769ce728c71d4e8899faf914148bf73e": {
          "model_module": "@jupyter-widgets/base",
          "model_name": "LayoutModel",
          "model_module_version": "1.2.0",
          "state": {
            "_model_module": "@jupyter-widgets/base",
            "_model_module_version": "1.2.0",
            "_model_name": "LayoutModel",
            "_view_count": null,
            "_view_module": "@jupyter-widgets/base",
            "_view_module_version": "1.2.0",
            "_view_name": "LayoutView",
            "align_content": null,
            "align_items": null,
            "align_self": null,
            "border": null,
            "bottom": null,
            "display": null,
            "flex": null,
            "flex_flow": null,
            "grid_area": null,
            "grid_auto_columns": null,
            "grid_auto_flow": null,
            "grid_auto_rows": null,
            "grid_column": null,
            "grid_gap": null,
            "grid_row": null,
            "grid_template_areas": null,
            "grid_template_columns": null,
            "grid_template_rows": null,
            "height": null,
            "justify_content": null,
            "justify_items": null,
            "left": null,
            "margin": null,
            "max_height": null,
            "max_width": null,
            "min_height": null,
            "min_width": null,
            "object_fit": null,
            "object_position": null,
            "order": null,
            "overflow": null,
            "overflow_x": null,
            "overflow_y": null,
            "padding": null,
            "right": null,
            "top": null,
            "visibility": null,
            "width": null
          }
        },
        "1282140dc86645178a993e7b8aad4361": {
          "model_module": "@jupyter-widgets/base",
          "model_name": "LayoutModel",
          "model_module_version": "1.2.0",
          "state": {
            "_model_module": "@jupyter-widgets/base",
            "_model_module_version": "1.2.0",
            "_model_name": "LayoutModel",
            "_view_count": null,
            "_view_module": "@jupyter-widgets/base",
            "_view_module_version": "1.2.0",
            "_view_name": "LayoutView",
            "align_content": null,
            "align_items": null,
            "align_self": null,
            "border": null,
            "bottom": null,
            "display": null,
            "flex": null,
            "flex_flow": null,
            "grid_area": null,
            "grid_auto_columns": null,
            "grid_auto_flow": null,
            "grid_auto_rows": null,
            "grid_column": null,
            "grid_gap": null,
            "grid_row": null,
            "grid_template_areas": null,
            "grid_template_columns": null,
            "grid_template_rows": null,
            "height": null,
            "justify_content": null,
            "justify_items": null,
            "left": null,
            "margin": null,
            "max_height": null,
            "max_width": null,
            "min_height": null,
            "min_width": null,
            "object_fit": null,
            "object_position": null,
            "order": null,
            "overflow": null,
            "overflow_x": null,
            "overflow_y": null,
            "padding": null,
            "right": null,
            "top": null,
            "visibility": null,
            "width": null
          }
        },
        "bd96f0bd7bd54992a717681fb0828ad5": {
          "model_module": "@jupyter-widgets/controls",
          "model_name": "DescriptionStyleModel",
          "model_module_version": "1.5.0",
          "state": {
            "_model_module": "@jupyter-widgets/controls",
            "_model_module_version": "1.5.0",
            "_model_name": "DescriptionStyleModel",
            "_view_count": null,
            "_view_module": "@jupyter-widgets/base",
            "_view_module_version": "1.2.0",
            "_view_name": "StyleView",
            "description_width": ""
          }
        },
        "4baa9bfdeaec43fba92fa9482ed8cea0": {
          "model_module": "@jupyter-widgets/base",
          "model_name": "LayoutModel",
          "model_module_version": "1.2.0",
          "state": {
            "_model_module": "@jupyter-widgets/base",
            "_model_module_version": "1.2.0",
            "_model_name": "LayoutModel",
            "_view_count": null,
            "_view_module": "@jupyter-widgets/base",
            "_view_module_version": "1.2.0",
            "_view_name": "LayoutView",
            "align_content": null,
            "align_items": null,
            "align_self": null,
            "border": null,
            "bottom": null,
            "display": null,
            "flex": null,
            "flex_flow": null,
            "grid_area": null,
            "grid_auto_columns": null,
            "grid_auto_flow": null,
            "grid_auto_rows": null,
            "grid_column": null,
            "grid_gap": null,
            "grid_row": null,
            "grid_template_areas": null,
            "grid_template_columns": null,
            "grid_template_rows": null,
            "height": null,
            "justify_content": null,
            "justify_items": null,
            "left": null,
            "margin": null,
            "max_height": null,
            "max_width": null,
            "min_height": null,
            "min_width": null,
            "object_fit": null,
            "object_position": null,
            "order": null,
            "overflow": null,
            "overflow_x": null,
            "overflow_y": null,
            "padding": null,
            "right": null,
            "top": null,
            "visibility": null,
            "width": null
          }
        },
        "3bc6b32ed4ad41cda249aa4dfc47df08": {
          "model_module": "@jupyter-widgets/controls",
          "model_name": "ProgressStyleModel",
          "model_module_version": "1.5.0",
          "state": {
            "_model_module": "@jupyter-widgets/controls",
            "_model_module_version": "1.5.0",
            "_model_name": "ProgressStyleModel",
            "_view_count": null,
            "_view_module": "@jupyter-widgets/base",
            "_view_module_version": "1.2.0",
            "_view_name": "StyleView",
            "bar_color": null,
            "description_width": ""
          }
        },
        "0609222e10374f2684ead8ca1b2ac0cc": {
          "model_module": "@jupyter-widgets/base",
          "model_name": "LayoutModel",
          "model_module_version": "1.2.0",
          "state": {
            "_model_module": "@jupyter-widgets/base",
            "_model_module_version": "1.2.0",
            "_model_name": "LayoutModel",
            "_view_count": null,
            "_view_module": "@jupyter-widgets/base",
            "_view_module_version": "1.2.0",
            "_view_name": "LayoutView",
            "align_content": null,
            "align_items": null,
            "align_self": null,
            "border": null,
            "bottom": null,
            "display": null,
            "flex": null,
            "flex_flow": null,
            "grid_area": null,
            "grid_auto_columns": null,
            "grid_auto_flow": null,
            "grid_auto_rows": null,
            "grid_column": null,
            "grid_gap": null,
            "grid_row": null,
            "grid_template_areas": null,
            "grid_template_columns": null,
            "grid_template_rows": null,
            "height": null,
            "justify_content": null,
            "justify_items": null,
            "left": null,
            "margin": null,
            "max_height": null,
            "max_width": null,
            "min_height": null,
            "min_width": null,
            "object_fit": null,
            "object_position": null,
            "order": null,
            "overflow": null,
            "overflow_x": null,
            "overflow_y": null,
            "padding": null,
            "right": null,
            "top": null,
            "visibility": null,
            "width": null
          }
        },
        "2e5ea90c8ad948a08d53b471cc8a791c": {
          "model_module": "@jupyter-widgets/controls",
          "model_name": "DescriptionStyleModel",
          "model_module_version": "1.5.0",
          "state": {
            "_model_module": "@jupyter-widgets/controls",
            "_model_module_version": "1.5.0",
            "_model_name": "DescriptionStyleModel",
            "_view_count": null,
            "_view_module": "@jupyter-widgets/base",
            "_view_module_version": "1.2.0",
            "_view_name": "StyleView",
            "description_width": ""
          }
        },
        "148f36e47631426e8cdf72c60b0c0b4b": {
          "model_module": "@jupyter-widgets/controls",
          "model_name": "HBoxModel",
          "model_module_version": "1.5.0",
          "state": {
            "_dom_classes": [],
            "_model_module": "@jupyter-widgets/controls",
            "_model_module_version": "1.5.0",
            "_model_name": "HBoxModel",
            "_view_count": null,
            "_view_module": "@jupyter-widgets/controls",
            "_view_module_version": "1.5.0",
            "_view_name": "HBoxView",
            "box_style": "",
            "children": [
              "IPY_MODEL_49833add367545a78dee171ad2ab3f32",
              "IPY_MODEL_5383e2b9c9074ae6bc8a4c3cf05612ff",
              "IPY_MODEL_1837b4f5c79e4bf79ff772b43d9509e4"
            ],
            "layout": "IPY_MODEL_c8027417054b43af8976f16493280d1b"
          }
        },
        "49833add367545a78dee171ad2ab3f32": {
          "model_module": "@jupyter-widgets/controls",
          "model_name": "HTMLModel",
          "model_module_version": "1.5.0",
          "state": {
            "_dom_classes": [],
            "_model_module": "@jupyter-widgets/controls",
            "_model_module_version": "1.5.0",
            "_model_name": "HTMLModel",
            "_view_count": null,
            "_view_module": "@jupyter-widgets/controls",
            "_view_module_version": "1.5.0",
            "_view_name": "HTMLView",
            "description": "",
            "description_tooltip": null,
            "layout": "IPY_MODEL_c988544d2f7f443aa84c8f0ff7f4f41f",
            "placeholder": "​",
            "style": "IPY_MODEL_c8342b0d7b0f42c789c9a6262f5181fc",
            "value": "100%"
          }
        },
        "5383e2b9c9074ae6bc8a4c3cf05612ff": {
          "model_module": "@jupyter-widgets/controls",
          "model_name": "FloatProgressModel",
          "model_module_version": "1.5.0",
          "state": {
            "_dom_classes": [],
            "_model_module": "@jupyter-widgets/controls",
            "_model_module_version": "1.5.0",
            "_model_name": "FloatProgressModel",
            "_view_count": null,
            "_view_module": "@jupyter-widgets/controls",
            "_view_module_version": "1.5.0",
            "_view_name": "ProgressView",
            "bar_style": "success",
            "description": "",
            "description_tooltip": null,
            "layout": "IPY_MODEL_e34cd476f7894bb6866c3886427e7bb2",
            "max": 26634062,
            "min": 0,
            "orientation": "horizontal",
            "style": "IPY_MODEL_c03c508f191848f28b0852d2d3dd23d2",
            "value": 26634062
          }
        },
        "1837b4f5c79e4bf79ff772b43d9509e4": {
          "model_module": "@jupyter-widgets/controls",
          "model_name": "HTMLModel",
          "model_module_version": "1.5.0",
          "state": {
            "_dom_classes": [],
            "_model_module": "@jupyter-widgets/controls",
            "_model_module_version": "1.5.0",
            "_model_name": "HTMLModel",
            "_view_count": null,
            "_view_module": "@jupyter-widgets/controls",
            "_view_module_version": "1.5.0",
            "_view_name": "HTMLView",
            "description": "",
            "description_tooltip": null,
            "layout": "IPY_MODEL_94e455fe49af4d03a8d4d279ed372d29",
            "placeholder": "​",
            "style": "IPY_MODEL_bf8660735c614ab89ce1b9ca8a30593a",
            "value": " 26.6M/26.6M [00:01&lt;00:00, 33.3MB/s]"
          }
        },
        "c8027417054b43af8976f16493280d1b": {
          "model_module": "@jupyter-widgets/base",
          "model_name": "LayoutModel",
          "model_module_version": "1.2.0",
          "state": {
            "_model_module": "@jupyter-widgets/base",
            "_model_module_version": "1.2.0",
            "_model_name": "LayoutModel",
            "_view_count": null,
            "_view_module": "@jupyter-widgets/base",
            "_view_module_version": "1.2.0",
            "_view_name": "LayoutView",
            "align_content": null,
            "align_items": null,
            "align_self": null,
            "border": null,
            "bottom": null,
            "display": null,
            "flex": null,
            "flex_flow": null,
            "grid_area": null,
            "grid_auto_columns": null,
            "grid_auto_flow": null,
            "grid_auto_rows": null,
            "grid_column": null,
            "grid_gap": null,
            "grid_row": null,
            "grid_template_areas": null,
            "grid_template_columns": null,
            "grid_template_rows": null,
            "height": null,
            "justify_content": null,
            "justify_items": null,
            "left": null,
            "margin": null,
            "max_height": null,
            "max_width": null,
            "min_height": null,
            "min_width": null,
            "object_fit": null,
            "object_position": null,
            "order": null,
            "overflow": null,
            "overflow_x": null,
            "overflow_y": null,
            "padding": null,
            "right": null,
            "top": null,
            "visibility": null,
            "width": null
          }
        },
        "c988544d2f7f443aa84c8f0ff7f4f41f": {
          "model_module": "@jupyter-widgets/base",
          "model_name": "LayoutModel",
          "model_module_version": "1.2.0",
          "state": {
            "_model_module": "@jupyter-widgets/base",
            "_model_module_version": "1.2.0",
            "_model_name": "LayoutModel",
            "_view_count": null,
            "_view_module": "@jupyter-widgets/base",
            "_view_module_version": "1.2.0",
            "_view_name": "LayoutView",
            "align_content": null,
            "align_items": null,
            "align_self": null,
            "border": null,
            "bottom": null,
            "display": null,
            "flex": null,
            "flex_flow": null,
            "grid_area": null,
            "grid_auto_columns": null,
            "grid_auto_flow": null,
            "grid_auto_rows": null,
            "grid_column": null,
            "grid_gap": null,
            "grid_row": null,
            "grid_template_areas": null,
            "grid_template_columns": null,
            "grid_template_rows": null,
            "height": null,
            "justify_content": null,
            "justify_items": null,
            "left": null,
            "margin": null,
            "max_height": null,
            "max_width": null,
            "min_height": null,
            "min_width": null,
            "object_fit": null,
            "object_position": null,
            "order": null,
            "overflow": null,
            "overflow_x": null,
            "overflow_y": null,
            "padding": null,
            "right": null,
            "top": null,
            "visibility": null,
            "width": null
          }
        },
        "c8342b0d7b0f42c789c9a6262f5181fc": {
          "model_module": "@jupyter-widgets/controls",
          "model_name": "DescriptionStyleModel",
          "model_module_version": "1.5.0",
          "state": {
            "_model_module": "@jupyter-widgets/controls",
            "_model_module_version": "1.5.0",
            "_model_name": "DescriptionStyleModel",
            "_view_count": null,
            "_view_module": "@jupyter-widgets/base",
            "_view_module_version": "1.2.0",
            "_view_name": "StyleView",
            "description_width": ""
          }
        },
        "e34cd476f7894bb6866c3886427e7bb2": {
          "model_module": "@jupyter-widgets/base",
          "model_name": "LayoutModel",
          "model_module_version": "1.2.0",
          "state": {
            "_model_module": "@jupyter-widgets/base",
            "_model_module_version": "1.2.0",
            "_model_name": "LayoutModel",
            "_view_count": null,
            "_view_module": "@jupyter-widgets/base",
            "_view_module_version": "1.2.0",
            "_view_name": "LayoutView",
            "align_content": null,
            "align_items": null,
            "align_self": null,
            "border": null,
            "bottom": null,
            "display": null,
            "flex": null,
            "flex_flow": null,
            "grid_area": null,
            "grid_auto_columns": null,
            "grid_auto_flow": null,
            "grid_auto_rows": null,
            "grid_column": null,
            "grid_gap": null,
            "grid_row": null,
            "grid_template_areas": null,
            "grid_template_columns": null,
            "grid_template_rows": null,
            "height": null,
            "justify_content": null,
            "justify_items": null,
            "left": null,
            "margin": null,
            "max_height": null,
            "max_width": null,
            "min_height": null,
            "min_width": null,
            "object_fit": null,
            "object_position": null,
            "order": null,
            "overflow": null,
            "overflow_x": null,
            "overflow_y": null,
            "padding": null,
            "right": null,
            "top": null,
            "visibility": null,
            "width": null
          }
        },
        "c03c508f191848f28b0852d2d3dd23d2": {
          "model_module": "@jupyter-widgets/controls",
          "model_name": "ProgressStyleModel",
          "model_module_version": "1.5.0",
          "state": {
            "_model_module": "@jupyter-widgets/controls",
            "_model_module_version": "1.5.0",
            "_model_name": "ProgressStyleModel",
            "_view_count": null,
            "_view_module": "@jupyter-widgets/base",
            "_view_module_version": "1.2.0",
            "_view_name": "StyleView",
            "bar_color": null,
            "description_width": ""
          }
        },
        "94e455fe49af4d03a8d4d279ed372d29": {
          "model_module": "@jupyter-widgets/base",
          "model_name": "LayoutModel",
          "model_module_version": "1.2.0",
          "state": {
            "_model_module": "@jupyter-widgets/base",
            "_model_module_version": "1.2.0",
            "_model_name": "LayoutModel",
            "_view_count": null,
            "_view_module": "@jupyter-widgets/base",
            "_view_module_version": "1.2.0",
            "_view_name": "LayoutView",
            "align_content": null,
            "align_items": null,
            "align_self": null,
            "border": null,
            "bottom": null,
            "display": null,
            "flex": null,
            "flex_flow": null,
            "grid_area": null,
            "grid_auto_columns": null,
            "grid_auto_flow": null,
            "grid_auto_rows": null,
            "grid_column": null,
            "grid_gap": null,
            "grid_row": null,
            "grid_template_areas": null,
            "grid_template_columns": null,
            "grid_template_rows": null,
            "height": null,
            "justify_content": null,
            "justify_items": null,
            "left": null,
            "margin": null,
            "max_height": null,
            "max_width": null,
            "min_height": null,
            "min_width": null,
            "object_fit": null,
            "object_position": null,
            "order": null,
            "overflow": null,
            "overflow_x": null,
            "overflow_y": null,
            "padding": null,
            "right": null,
            "top": null,
            "visibility": null,
            "width": null
          }
        },
        "bf8660735c614ab89ce1b9ca8a30593a": {
          "model_module": "@jupyter-widgets/controls",
          "model_name": "DescriptionStyleModel",
          "model_module_version": "1.5.0",
          "state": {
            "_model_module": "@jupyter-widgets/controls",
            "_model_module_version": "1.5.0",
            "_model_name": "DescriptionStyleModel",
            "_view_count": null,
            "_view_module": "@jupyter-widgets/base",
            "_view_module_version": "1.2.0",
            "_view_name": "StyleView",
            "description_width": ""
          }
        }
      }
    },
    "accelerator": "GPU"
  },
  "cells": [
    {
      "cell_type": "markdown",
      "source": [
        "# TASK 5"
      ],
      "metadata": {
        "id": "cU_bP5OyNvz7"
      }
    },
    {
      "cell_type": "code",
      "source": [
        "from google.colab import drive\n",
        "drive.mount('/content/gdrive')"
      ],
      "metadata": {
        "colab": {
          "base_uri": "https://localhost:8080/"
        },
        "id": "gBXOTUR0v2Lm",
        "outputId": "f59a04ca-07eb-49f5-d8cb-b7ab91209609"
      },
      "execution_count": null,
      "outputs": [
        {
          "output_type": "stream",
          "name": "stdout",
          "text": [
            "Mounted at /content/gdrive\n"
          ]
        }
      ]
    },
    {
      "cell_type": "markdown",
      "source": [
        "### Get the LLM"
      ],
      "metadata": {
        "id": "UzxQ9aNz-rCM"
      }
    },
    {
      "cell_type": "code",
      "source": [
        "%%capture\n",
        "%%bash\n",
        "pip install -q -U bitsandbytes\n",
        "pip install -q -U git+https://github.com/huggingface/transformers.git\n",
        "pip install -q -U git+https://github.com/huggingface/peft.git\n",
        "pip install -q -U git+https://github.com/huggingface/accelerate.git"
      ],
      "metadata": {
        "id": "UGvy12fF-peF"
      },
      "execution_count": null,
      "outputs": []
    },
    {
      "cell_type": "code",
      "source": [
        "!pip install jsonlines"
      ],
      "metadata": {
        "colab": {
          "base_uri": "https://localhost:8080/"
        },
        "id": "dEfR6wRE6G7I",
        "outputId": "35cd7a89-2664-44d2-fe3a-25ca1c4e2f52"
      },
      "execution_count": null,
      "outputs": [
        {
          "output_type": "stream",
          "name": "stdout",
          "text": [
            "Collecting jsonlines\n",
            "  Downloading jsonlines-4.0.0-py3-none-any.whl (8.7 kB)\n",
            "Requirement already satisfied: attrs>=19.2.0 in /usr/local/lib/python3.10/dist-packages (from jsonlines) (23.2.0)\n",
            "Installing collected packages: jsonlines\n",
            "Successfully installed jsonlines-4.0.0\n"
          ]
        }
      ]
    },
    {
      "cell_type": "code",
      "source": [
        "import os\n",
        "import json\n",
        "import tqdm\n",
        "import sys\n",
        "import gzip\n",
        "from collections import defaultdict"
      ],
      "metadata": {
        "id": "zXNZdxRCM1yE"
      },
      "execution_count": null,
      "outputs": []
    },
    {
      "cell_type": "code",
      "source": [
        "!pip install torch==2.3.0"
      ],
      "metadata": {
        "colab": {
          "base_uri": "https://localhost:8080/"
        },
        "id": "lgcm4JSK--VZ",
        "outputId": "2508d185-0c8f-4682-a7c3-6b59192d98c2"
      },
      "execution_count": null,
      "outputs": [
        {
          "output_type": "stream",
          "name": "stdout",
          "text": [
            "Requirement already satisfied: torch==2.3.0 in /usr/local/lib/python3.10/dist-packages (2.3.0+cu121)\n",
            "Requirement already satisfied: filelock in /usr/local/lib/python3.10/dist-packages (from torch==2.3.0) (3.14.0)\n",
            "Requirement already satisfied: typing-extensions>=4.8.0 in /usr/local/lib/python3.10/dist-packages (from torch==2.3.0) (4.11.0)\n",
            "Requirement already satisfied: sympy in /usr/local/lib/python3.10/dist-packages (from torch==2.3.0) (1.12)\n",
            "Requirement already satisfied: networkx in /usr/local/lib/python3.10/dist-packages (from torch==2.3.0) (3.3)\n",
            "Requirement already satisfied: jinja2 in /usr/local/lib/python3.10/dist-packages (from torch==2.3.0) (3.1.4)\n",
            "Requirement already satisfied: fsspec in /usr/local/lib/python3.10/dist-packages (from torch==2.3.0) (2023.6.0)\n",
            "Requirement already satisfied: nvidia-cuda-nvrtc-cu12==12.1.105 in /usr/local/lib/python3.10/dist-packages (from torch==2.3.0) (12.1.105)\n",
            "Requirement already satisfied: nvidia-cuda-runtime-cu12==12.1.105 in /usr/local/lib/python3.10/dist-packages (from torch==2.3.0) (12.1.105)\n",
            "Requirement already satisfied: nvidia-cuda-cupti-cu12==12.1.105 in /usr/local/lib/python3.10/dist-packages (from torch==2.3.0) (12.1.105)\n",
            "Requirement already satisfied: nvidia-cudnn-cu12==8.9.2.26 in /usr/local/lib/python3.10/dist-packages (from torch==2.3.0) (8.9.2.26)\n",
            "Requirement already satisfied: nvidia-cublas-cu12==12.1.3.1 in /usr/local/lib/python3.10/dist-packages (from torch==2.3.0) (12.1.3.1)\n",
            "Requirement already satisfied: nvidia-cufft-cu12==11.0.2.54 in /usr/local/lib/python3.10/dist-packages (from torch==2.3.0) (11.0.2.54)\n",
            "Requirement already satisfied: nvidia-curand-cu12==10.3.2.106 in /usr/local/lib/python3.10/dist-packages (from torch==2.3.0) (10.3.2.106)\n",
            "Requirement already satisfied: nvidia-cusolver-cu12==11.4.5.107 in /usr/local/lib/python3.10/dist-packages (from torch==2.3.0) (11.4.5.107)\n",
            "Requirement already satisfied: nvidia-cusparse-cu12==12.1.0.106 in /usr/local/lib/python3.10/dist-packages (from torch==2.3.0) (12.1.0.106)\n",
            "Requirement already satisfied: nvidia-nccl-cu12==2.20.5 in /usr/local/lib/python3.10/dist-packages (from torch==2.3.0) (2.20.5)\n",
            "Requirement already satisfied: nvidia-nvtx-cu12==12.1.105 in /usr/local/lib/python3.10/dist-packages (from torch==2.3.0) (12.1.105)\n",
            "Requirement already satisfied: triton==2.3.0 in /usr/local/lib/python3.10/dist-packages (from torch==2.3.0) (2.3.0)\n",
            "Requirement already satisfied: nvidia-nvjitlink-cu12 in /usr/local/lib/python3.10/dist-packages (from nvidia-cusolver-cu12==11.4.5.107->torch==2.3.0) (12.5.40)\n",
            "Requirement already satisfied: MarkupSafe>=2.0 in /usr/local/lib/python3.10/dist-packages (from jinja2->torch==2.3.0) (2.1.5)\n",
            "Requirement already satisfied: mpmath>=0.19 in /usr/local/lib/python3.10/dist-packages (from sympy->torch==2.3.0) (1.3.0)\n"
          ]
        }
      ]
    },
    {
      "cell_type": "code",
      "source": [
        "%%capture\n",
        "from transformers import AutoTokenizer, LlamaForCausalLM, AutoModelForCausalLM\n",
        "\n",
        "model_name = \"HuggingFaceH4/zephyr-7b-beta\"\n",
        "tokenizer = AutoTokenizer.from_pretrained(model_name, truncation=True, padding=True, padding_side=\"left\", maximum_length = 2048, model_max_length = 2048)\n",
        "model = AutoModelForCausalLM.from_pretrained(model_name, load_in_4bit = True, device_map = 'auto')\n",
        "tokenizer.pad_token = tokenizer.eos_token\n",
        "model.generation_config.pad_token_id = model.generation_config.eos_token_id"
      ],
      "metadata": {
        "id": "qtV3hFiB_Bwa"
      },
      "execution_count": null,
      "outputs": []
    },
    {
      "cell_type": "markdown",
      "source": [
        "### Install and import packages"
      ],
      "metadata": {
        "id": "SOK6Gwo0-f_d"
      }
    },
    {
      "cell_type": "code",
      "source": [
        "!pip install pytrec_eval"
      ],
      "metadata": {
        "colab": {
          "base_uri": "https://localhost:8080/"
        },
        "id": "Hppeg6wC6OL5",
        "outputId": "6053b4e1-7571-4ec4-a5b0-3ab9a95df4e2"
      },
      "execution_count": null,
      "outputs": [
        {
          "output_type": "stream",
          "name": "stdout",
          "text": [
            "Collecting pytrec_eval\n",
            "  Downloading pytrec_eval-0.5.tar.gz (15 kB)\n",
            "  Preparing metadata (setup.py) ... \u001b[?25l\u001b[?25hdone\n",
            "Building wheels for collected packages: pytrec_eval\n",
            "  Building wheel for pytrec_eval (setup.py) ... \u001b[?25l\u001b[?25hdone\n",
            "  Created wheel for pytrec_eval: filename=pytrec_eval-0.5-cp310-cp310-linux_x86_64.whl size=308217 sha256=3c81b7ab37102bcc89e5f95611b7e9400e9cc0b31a4a40ed1cd37413ba407438\n",
            "  Stored in directory: /root/.cache/pip/wheels/51/3a/cd/dcc1ddfc763987d5cb237165d8ac249aa98a23ab90f67317a8\n",
            "Successfully built pytrec_eval\n",
            "Installing collected packages: pytrec_eval\n",
            "Successfully installed pytrec_eval-0.5\n"
          ]
        }
      ]
    },
    {
      "cell_type": "code",
      "source": [
        "!pip install sentence-transformers"
      ],
      "metadata": {
        "colab": {
          "base_uri": "https://localhost:8080/"
        },
        "id": "6LzfC9nY6Q_q",
        "outputId": "a0fd607f-92e2-47e2-f83f-4016fd921279"
      },
      "execution_count": null,
      "outputs": [
        {
          "output_type": "stream",
          "name": "stdout",
          "text": [
            "Collecting sentence-transformers\n",
            "  Downloading sentence_transformers-2.7.0-py3-none-any.whl (171 kB)\n",
            "\u001b[2K     \u001b[90m━━━━━━━━━━━━━━━━━━━━━━━━━━━━━━━━━━━━━━━━\u001b[0m \u001b[32m171.5/171.5 kB\u001b[0m \u001b[31m1.6 MB/s\u001b[0m eta \u001b[36m0:00:00\u001b[0m\n",
            "\u001b[?25hRequirement already satisfied: transformers<5.0.0,>=4.34.0 in /usr/local/lib/python3.10/dist-packages (from sentence-transformers) (4.42.0.dev0)\n",
            "Requirement already satisfied: tqdm in /usr/local/lib/python3.10/dist-packages (from sentence-transformers) (4.66.4)\n",
            "Requirement already satisfied: torch>=1.11.0 in /usr/local/lib/python3.10/dist-packages (from sentence-transformers) (2.3.0+cu121)\n",
            "Requirement already satisfied: numpy in /usr/local/lib/python3.10/dist-packages (from sentence-transformers) (1.25.2)\n",
            "Requirement already satisfied: scikit-learn in /usr/local/lib/python3.10/dist-packages (from sentence-transformers) (1.2.2)\n",
            "Requirement already satisfied: scipy in /usr/local/lib/python3.10/dist-packages (from sentence-transformers) (1.11.4)\n",
            "Requirement already satisfied: huggingface-hub>=0.15.1 in /usr/local/lib/python3.10/dist-packages (from sentence-transformers) (0.23.1)\n",
            "Requirement already satisfied: Pillow in /usr/local/lib/python3.10/dist-packages (from sentence-transformers) (9.4.0)\n",
            "Requirement already satisfied: filelock in /usr/local/lib/python3.10/dist-packages (from huggingface-hub>=0.15.1->sentence-transformers) (3.14.0)\n",
            "Requirement already satisfied: fsspec>=2023.5.0 in /usr/local/lib/python3.10/dist-packages (from huggingface-hub>=0.15.1->sentence-transformers) (2023.6.0)\n",
            "Requirement already satisfied: packaging>=20.9 in /usr/local/lib/python3.10/dist-packages (from huggingface-hub>=0.15.1->sentence-transformers) (24.0)\n",
            "Requirement already satisfied: pyyaml>=5.1 in /usr/local/lib/python3.10/dist-packages (from huggingface-hub>=0.15.1->sentence-transformers) (6.0.1)\n",
            "Requirement already satisfied: requests in /usr/local/lib/python3.10/dist-packages (from huggingface-hub>=0.15.1->sentence-transformers) (2.31.0)\n",
            "Requirement already satisfied: typing-extensions>=3.7.4.3 in /usr/local/lib/python3.10/dist-packages (from huggingface-hub>=0.15.1->sentence-transformers) (4.11.0)\n",
            "Requirement already satisfied: sympy in /usr/local/lib/python3.10/dist-packages (from torch>=1.11.0->sentence-transformers) (1.12)\n",
            "Requirement already satisfied: networkx in /usr/local/lib/python3.10/dist-packages (from torch>=1.11.0->sentence-transformers) (3.3)\n",
            "Requirement already satisfied: jinja2 in /usr/local/lib/python3.10/dist-packages (from torch>=1.11.0->sentence-transformers) (3.1.4)\n",
            "Requirement already satisfied: nvidia-cuda-nvrtc-cu12==12.1.105 in /usr/local/lib/python3.10/dist-packages (from torch>=1.11.0->sentence-transformers) (12.1.105)\n",
            "Requirement already satisfied: nvidia-cuda-runtime-cu12==12.1.105 in /usr/local/lib/python3.10/dist-packages (from torch>=1.11.0->sentence-transformers) (12.1.105)\n",
            "Requirement already satisfied: nvidia-cuda-cupti-cu12==12.1.105 in /usr/local/lib/python3.10/dist-packages (from torch>=1.11.0->sentence-transformers) (12.1.105)\n",
            "Requirement already satisfied: nvidia-cudnn-cu12==8.9.2.26 in /usr/local/lib/python3.10/dist-packages (from torch>=1.11.0->sentence-transformers) (8.9.2.26)\n",
            "Requirement already satisfied: nvidia-cublas-cu12==12.1.3.1 in /usr/local/lib/python3.10/dist-packages (from torch>=1.11.0->sentence-transformers) (12.1.3.1)\n",
            "Requirement already satisfied: nvidia-cufft-cu12==11.0.2.54 in /usr/local/lib/python3.10/dist-packages (from torch>=1.11.0->sentence-transformers) (11.0.2.54)\n",
            "Requirement already satisfied: nvidia-curand-cu12==10.3.2.106 in /usr/local/lib/python3.10/dist-packages (from torch>=1.11.0->sentence-transformers) (10.3.2.106)\n",
            "Requirement already satisfied: nvidia-cusolver-cu12==11.4.5.107 in /usr/local/lib/python3.10/dist-packages (from torch>=1.11.0->sentence-transformers) (11.4.5.107)\n",
            "Requirement already satisfied: nvidia-cusparse-cu12==12.1.0.106 in /usr/local/lib/python3.10/dist-packages (from torch>=1.11.0->sentence-transformers) (12.1.0.106)\n",
            "Requirement already satisfied: nvidia-nccl-cu12==2.20.5 in /usr/local/lib/python3.10/dist-packages (from torch>=1.11.0->sentence-transformers) (2.20.5)\n",
            "Requirement already satisfied: nvidia-nvtx-cu12==12.1.105 in /usr/local/lib/python3.10/dist-packages (from torch>=1.11.0->sentence-transformers) (12.1.105)\n",
            "Requirement already satisfied: triton==2.3.0 in /usr/local/lib/python3.10/dist-packages (from torch>=1.11.0->sentence-transformers) (2.3.0)\n",
            "Requirement already satisfied: nvidia-nvjitlink-cu12 in /usr/local/lib/python3.10/dist-packages (from nvidia-cusolver-cu12==11.4.5.107->torch>=1.11.0->sentence-transformers) (12.5.40)\n",
            "Requirement already satisfied: regex!=2019.12.17 in /usr/local/lib/python3.10/dist-packages (from transformers<5.0.0,>=4.34.0->sentence-transformers) (2023.12.25)\n",
            "Requirement already satisfied: tokenizers<0.20,>=0.19 in /usr/local/lib/python3.10/dist-packages (from transformers<5.0.0,>=4.34.0->sentence-transformers) (0.19.1)\n",
            "Requirement already satisfied: safetensors>=0.4.1 in /usr/local/lib/python3.10/dist-packages (from transformers<5.0.0,>=4.34.0->sentence-transformers) (0.4.3)\n",
            "Requirement already satisfied: joblib>=1.1.1 in /usr/local/lib/python3.10/dist-packages (from scikit-learn->sentence-transformers) (1.4.2)\n",
            "Requirement already satisfied: threadpoolctl>=2.0.0 in /usr/local/lib/python3.10/dist-packages (from scikit-learn->sentence-transformers) (3.5.0)\n",
            "Requirement already satisfied: MarkupSafe>=2.0 in /usr/local/lib/python3.10/dist-packages (from jinja2->torch>=1.11.0->sentence-transformers) (2.1.5)\n",
            "Requirement already satisfied: charset-normalizer<4,>=2 in /usr/local/lib/python3.10/dist-packages (from requests->huggingface-hub>=0.15.1->sentence-transformers) (3.3.2)\n",
            "Requirement already satisfied: idna<4,>=2.5 in /usr/local/lib/python3.10/dist-packages (from requests->huggingface-hub>=0.15.1->sentence-transformers) (3.7)\n",
            "Requirement already satisfied: urllib3<3,>=1.21.1 in /usr/local/lib/python3.10/dist-packages (from requests->huggingface-hub>=0.15.1->sentence-transformers) (2.0.7)\n",
            "Requirement already satisfied: certifi>=2017.4.17 in /usr/local/lib/python3.10/dist-packages (from requests->huggingface-hub>=0.15.1->sentence-transformers) (2024.2.2)\n",
            "Requirement already satisfied: mpmath>=0.19 in /usr/local/lib/python3.10/dist-packages (from sympy->torch>=1.11.0->sentence-transformers) (1.3.0)\n",
            "Installing collected packages: sentence-transformers\n",
            "Successfully installed sentence-transformers-2.7.0\n"
          ]
        }
      ]
    },
    {
      "cell_type": "code",
      "source": [
        "# Imports\n",
        "import operator\n",
        "from collections import defaultdict\n",
        "import tqdm\n",
        "import jsonlines\n",
        "import numpy as np\n",
        "import pytrec_eval\n",
        "from sentence_transformers.cross_encoder import CrossEncoder\n",
        "import os\n",
        "import logging\n",
        "from sentence_transformers import util\n",
        "import gzip\n",
        "import json\n",
        "import sys"
      ],
      "metadata": {
        "id": "8NbIrzpN5tbG"
      },
      "execution_count": null,
      "outputs": []
    },
    {
      "cell_type": "markdown",
      "source": [
        "### Get data"
      ],
      "metadata": {
        "id": "hpJNEU4P019a"
      }
    },
    {
      "cell_type": "code",
      "execution_count": null,
      "metadata": {
        "colab": {
          "base_uri": "https://localhost:8080/"
        },
        "id": "bgyGYrAOvYbQ",
        "outputId": "6593b9c1-d34a-4016-afdd-9130e8967aff"
      },
      "outputs": [
        {
          "output_type": "stream",
          "name": "stdout",
          "text": [
            "defaultdict(<class 'list'>, {'156493': [('1960255', 0.9419941902160645), ('1960260', 0.9321132302284241), ('6139386', 0.8972063064575195)], '1110199': [('8160520', 0.7269127368927002), ('5857921', 0.6710293889045715), ('3272914', 0.6032164692878723)], '1063750': [('4788297', 0.7590005993843079), ('4788299', 0.7250710725784302), ('3327051', 0.6594907641410828)], '130510': [('8612903', 0.9695038795471191), ('8612910', 0.9457370042800903), ('799647', 0.9132503271102905)], '489204': [('1778458', 0.734449028968811), ('385083', 0.7186551690101624), ('7116533', 0.6437966823577881)], '573724': [('5339620', 0.972711443901062), ('5721829', 0.9615448713302612), ('162151', 0.9609178304672241)], '168216': [('1381477', 0.9623517990112305), ('3830857', 0.9601773023605347), ('8731621', 0.9545367360115051)], '1133167': [('6467517', 0.9697607755661011), ('7486600', 0.9695602059364319), ('8160224', 0.9694837927818298)], '527433': [('8617271', 0.9572929739952087), ('5466807', 0.7033931612968445), ('5466810', 0.522318959236145)], '1037798': [('8760867', 0.9680029153823853), ('8760866', 0.9439464807510376), ('2970896', 0.9065870046615601)], '915593': [('82107', 0.9683060050010681), ('8402971', 0.9244784116744995), ('3538160', 0.9213361144065857)], '264014': [('6105572', 0.9330223202705383), ('96855', 0.9326368570327759), ('447992', 0.9292691946029663)], '1121402': [('8052624', 0.9149752855300903), ('188213', 0.9009831547737122), ('8052620', 0.8986449241638184)], '962179': [('4257871', 0.9178056716918945), ('8785371', 0.8913065195083618), ('5653659', 0.8322089314460754)], '1117099': [('6122722', 0.9658706784248352), ('1445087', 0.9628969430923462), ('3543106', 0.8804033994674683)], '148538': [('985488', 0.9801953434944153), ('8283532', 0.9736696481704712), ('985491', 0.9524624347686768)], '451602': [('8390518', 0.5395104289054871), ('5179251', 0.5368694067001343), ('8019873', 0.5312982797622681)], '359349': [('2826510', 0.9493615627288818), ('3223833', 0.9487072229385376), ('68649', 0.9362834095954895)], '1115776': [('8106321', 0.6983177065849304), ('4314176', 0.5567275285720825), ('8106324', 0.16314317286014557)], '1112341': [('8139258', 0.8954889178276062), ('8606160', 0.8549692630767822), ('8139257', 0.7737613320350647)], '131843': [('8305152', 0.9660949110984802), ('985994', 0.8430487513542175), ('8305153', 0.8386867046356201)], '104861': [('6351571', 0.6011223793029785), ('629276', 0.5969254970550537), ('5248341', 0.5762044787406921)], '833860': [('6230226', 0.9663288593292236), ('8344031', 0.9634726047515869), ('5167513', 0.9614362120628357)], '207786': [('8273763', 0.9324873685836792), ('8185064', 0.9208586812019348), ('7941579', 0.9097749590873718)], '1114819': [('5521373', 0.9707540273666382), ('1315998', 0.970371663570404), ('988373', 0.9606367945671082)], '183378': [('3867603', 0.9216461181640625), ('1865315', 0.9161697626113892), ('8570259', 0.7760339975357056)], '1106007': [('4173709', 0.9618541598320007), ('1334328', 0.9617941379547119), ('1334336', 0.9617506861686707)], '1124210': [('2258592', 0.5118309855461121), ('8492305', 0.3219633996486664), ('3162331', 0.3092975616455078)], '490595': [('4842897', 0.8630312085151672), ('457332', 0.7847585082054138), ('3908809', 0.7803125381469727)], '1103812': [('8220085', 0.8284406661987305), ('3843267', 0.7734954357147217), ('8220089', 0.772242546081543)], '87181': [('47203', 0.9724657535552979), ('5197133', 0.9579134583473206), ('47210', 0.953399121761322)], '443396': [('8536118', 0.866547167301178), ('4792649', 0.5030602216720581), ('456708', 0.49703943729400635)], '1121709': [('8049583', 0.9432210326194763), ('3423067', 0.6990748047828674), ('8049584', 0.6497649550437927)], '87452': [('186939', 0.8495742678642273), ('8819112', 0.8263711929321289), ('8333919', 0.788499653339386)], '855410': [('8651771', 0.6187892556190491), ('8651770', 0.46746838092803955), ('8651775', 0.09181956946849823)], '1114646': [('5640859', 0.8265842199325562), ('8117087', 0.8133164644241333), ('8117095', 0.711864173412323)], '19335': [('772234', 0.4423944354057312), ('7122355', 0.43633830547332764), ('8754859', 0.3836815357208252)], '47923': [('4297620', 0.9800794720649719), ('6241151', 0.973334014415741), ('6241147', 0.963405966758728)], '405717': [('8433854', 0.9736285209655762), ('4704973', 0.9642255306243896), ('3033900', 0.9324626922607422)], '182539': [('57443', 0.9786803722381592), ('57444', 0.8513403534889221), ('8757181', 0.8474733233451843)], '1113437': [('2001934', 0.8526358008384705), ('4751839', 0.8398874998092651), ('1768732', 0.8270401358604431)], '1129237': [('8588219', 0.9627953767776489), ('8588222', 0.9501506090164185), ('2697746', 0.7495409846305847)], '146187': [('8434623', 0.9825032949447632), ('8434619', 0.9756590127944946), ('8434624', 0.9515182971954346)]})\n"
          ]
        }
      ],
      "source": [
        "#ranking_run_file_path = \"/content/MiniLM\"\n",
        "#ranking_run_file_path = \"/content/tinyBERT\"\n",
        "ranking_run_file_path = \"/content/gdrive/MyDrive/cross-encoder-reranker-ir-course-2023/finetuned_models/cross-encoder-distilbert-distilroberta-base-2024-05-05_10-29-29ranking.run\"\n",
        "top_docs = defaultdict(list)\n",
        "\n",
        "# Parse the ranking file\n",
        "with open(ranking_run_file_path, \"r\") as f:\n",
        "    for line in f:\n",
        "        parts = line.strip().split()\n",
        "        qid = parts[0]\n",
        "        did = parts[2]\n",
        "        score = float(parts[4])\n",
        "        top_docs[qid].append((did, score))\n",
        "\n",
        "# Sort documents by score and keep only the top-3 for each query\n",
        "for qid in top_docs:\n",
        "    top_docs[qid] = sorted(top_docs[qid], key=operator.itemgetter(1), reverse=True)[:3]\n",
        "\n",
        "print(top_docs)"
      ]
    },
    {
      "cell_type": "code",
      "source": [
        "# Retrieve the queries\n",
        "from sentence_transformers import util\n",
        "\n",
        "queries = {}\n",
        "queries_filepath = os.path.join('/content/msmarco-test2019-queries.tsv.gz')\n",
        "if not os.path.exists(queries_filepath):\n",
        "    logging.info(\"Download \"+os.path.basename(queries_filepath))\n",
        "    util.http_get('https://msmarco.z22.web.core.windows.net/msmarcoranking/msmarco-test2019-queries.tsv.gz', queries_filepath)\n",
        "\n",
        "with gzip.open(queries_filepath, 'rt', encoding='utf8') as fIn:\n",
        "    for line in fIn:\n",
        "        qid, query = line.strip().split(\"\\t\")\n",
        "        queries[qid] = query"
      ],
      "metadata": {
        "colab": {
          "base_uri": "https://localhost:8080/",
          "height": 49,
          "referenced_widgets": [
            "5f9454a7fddf461cbf47d35755c468a6",
            "c4ff7630ce0b4a6da9bfed719dad0937",
            "d15336b7ab294fe7b97a442bdf8801bf",
            "b6dd2ddf4d2e4da1b6ed737e59126fb8",
            "5711f4d62a4d40e3bddb30a2464749b3",
            "92699454b4d44a3e9b3b98a927ee122b",
            "5fa8839a6f014d7ab38a48b3e45f0132",
            "04ee92437ffe4b85ab0e1e5d40f568db",
            "ab934b15436d46248db5a73c79d6f36b",
            "587a55f7c4f643519c02423effafa1bc",
            "11bcdbe9450c4482a9838509d50c9900"
          ]
        },
        "id": "jkUOcAsE7XzL",
        "outputId": "3487bb12-8a6f-49cf-f1a5-2841d6f03b07"
      },
      "execution_count": null,
      "outputs": [
        {
          "output_type": "display_data",
          "data": {
            "text/plain": [
              "  0%|          | 0.00/4.28k [00:00<?, ?B/s]"
            ],
            "application/vnd.jupyter.widget-view+json": {
              "version_major": 2,
              "version_minor": 0,
              "model_id": "5f9454a7fddf461cbf47d35755c468a6"
            }
          },
          "metadata": {}
        }
      ]
    },
    {
      "cell_type": "code",
      "source": [
        "#Read which passages are relevant\n",
        "relevant_docs = defaultdict(lambda: defaultdict(int))\n",
        "qrels_filepath = os.path.join(\"/content/qrels.txt\")\n",
        "\n",
        "if not os.path.exists(qrels_filepath):\n",
        "    logging.info(\"Download \"+os.path.basename(qrels_filepath))\n",
        "    util.http_get('https://trec.nist.gov/data/deep/2019qrels-pass.txt', qrels_filepath)\n",
        "\n",
        "\n",
        "with open(qrels_filepath) as fIn:\n",
        "    for line in fIn:\n",
        "        qid, _, pid, score = line.strip().split()\n",
        "        score = int(score)\n",
        "        if score > 0:\n",
        "            relevant_docs[qid][pid] = score\n",
        "\n",
        "# Only use queries that have at least one relevant passage\n",
        "relevant_qid = []\n",
        "for qid in queries:\n",
        "    if len(relevant_docs[qid]) > 0:\n",
        "        relevant_qid.append(qid)"
      ],
      "metadata": {
        "colab": {
          "base_uri": "https://localhost:8080/",
          "height": 49,
          "referenced_widgets": [
            "f050554c17264a7aa9990f80badf9ae3",
            "2e39b8facbc54639a02db44ba5c02e22",
            "1729f002db564accbdcd8e09edee3259",
            "569e9bebe8a34813ba21780f99771f54",
            "769ce728c71d4e8899faf914148bf73e",
            "1282140dc86645178a993e7b8aad4361",
            "bd96f0bd7bd54992a717681fb0828ad5",
            "4baa9bfdeaec43fba92fa9482ed8cea0",
            "3bc6b32ed4ad41cda249aa4dfc47df08",
            "0609222e10374f2684ead8ca1b2ac0cc",
            "2e5ea90c8ad948a08d53b471cc8a791c"
          ]
        },
        "id": "56OdlnuT7ApV",
        "outputId": "9103aebf-bb9b-4b70-c276-0c8a1eb6d45f"
      },
      "execution_count": null,
      "outputs": [
        {
          "output_type": "display_data",
          "data": {
            "text/plain": [
              "  0%|          | 0.00/187k [00:00<?, ?B/s]"
            ],
            "application/vnd.jupyter.widget-view+json": {
              "version_major": 2,
              "version_minor": 0,
              "model_id": "f050554c17264a7aa9990f80badf9ae3"
            }
          },
          "metadata": {}
        }
      ]
    },
    {
      "cell_type": "code",
      "source": [
        "passage_filepath = os.path.join(\"/content/msmarco-passagetest2019-top1000.tsv.gz\")\n",
        "\n",
        "if not os.path.exists(passage_filepath):\n",
        "    logging.info(\"Download \"+os.path.basename(passage_filepath))\n",
        "    util.http_get('https://msmarco.z22.web.core.windows.net/msmarcoranking/msmarco-passagetest2019-top1000.tsv.gz', passage_filepath)\n",
        "\n",
        "\n",
        "\n",
        "passage_cand = {}\n",
        "document_contents = {}\n",
        "with gzip.open(passage_filepath, 'rt', encoding='utf8') as fIn:\n",
        "    for line in fIn:\n",
        "        qid, pid, query, passage = line.strip().split(\"\\t\")\n",
        "        if qid not in passage_cand:\n",
        "            passage_cand[qid] = []\n",
        "\n",
        "        document_contents[pid] = passage\n",
        "        passage_cand[qid].append([pid, passage])"
      ],
      "metadata": {
        "colab": {
          "base_uri": "https://localhost:8080/",
          "height": 49,
          "referenced_widgets": [
            "148f36e47631426e8cdf72c60b0c0b4b",
            "49833add367545a78dee171ad2ab3f32",
            "5383e2b9c9074ae6bc8a4c3cf05612ff",
            "1837b4f5c79e4bf79ff772b43d9509e4",
            "c8027417054b43af8976f16493280d1b",
            "c988544d2f7f443aa84c8f0ff7f4f41f",
            "c8342b0d7b0f42c789c9a6262f5181fc",
            "e34cd476f7894bb6866c3886427e7bb2",
            "c03c508f191848f28b0852d2d3dd23d2",
            "94e455fe49af4d03a8d4d279ed372d29",
            "bf8660735c614ab89ce1b9ca8a30593a"
          ]
        },
        "id": "E9UCR8Vx8BIk",
        "outputId": "b32dbd9f-a894-4636-eb3c-3d3050471201"
      },
      "execution_count": null,
      "outputs": [
        {
          "output_type": "display_data",
          "data": {
            "text/plain": [
              "  0%|          | 0.00/26.6M [00:00<?, ?B/s]"
            ],
            "application/vnd.jupyter.widget-view+json": {
              "version_major": 2,
              "version_minor": 0,
              "model_id": "148f36e47631426e8cdf72c60b0c0b4b"
            }
          },
          "metadata": {}
        }
      ]
    },
    {
      "cell_type": "markdown",
      "source": [
        "### Construct PRF prompt"
      ],
      "metadata": {
        "id": "Z8N9li6T3Jqa"
      }
    },
    {
      "cell_type": "code",
      "source": [
        "def construct_prf_prompt(query, top_docs_content):\n",
        "    context = \"\\n\".join(top_docs_content)\n",
        "    prompt = f\"Answer the following query based on the context:\\nContext: {context}\\nQuery: {query}\\nGive the rationale before answering.\"\n",
        "    return prompt"
      ],
      "metadata": {
        "id": "2VBKLjS93JX7"
      },
      "execution_count": null,
      "outputs": []
    },
    {
      "cell_type": "markdown",
      "source": [
        "### Generate expanded queries using PRF"
      ],
      "metadata": {
        "id": "ghGOUjs13S0L"
      }
    },
    {
      "cell_type": "code",
      "source": [
        "def reformulate_query_with_prf(original_query, top_docs_content, model, tokenizer, max_length=512):\n",
        "    prompt = construct_prf_prompt(original_query, top_docs_content)\n",
        "\n",
        "    inputs = tokenizer(prompt, return_tensors='pt', padding=True, truncation=True, max_length=max_length).to(model.device)\n",
        "    outputs = model.generate(**inputs, max_length=max_length, num_beams=5, no_repeat_ngram_size=2, early_stopping=True)\n",
        "\n",
        "    new_query = tokenizer.decode(outputs[0], skip_special_tokens=True)\n",
        "    return new_query\n",
        "\n",
        "reformulated_queries_prf = {}\n",
        "for qid in tqdm.tqdm(relevant_qid, desc=\"Processing queries with PRF\"):\n",
        "    query = queries.get(qid, None)\n",
        "    if query:\n",
        "        top_docs_content = [document_contents[did] for did, _ in top_docs[qid]]  # Get the content of top-3 documents\n",
        "        reformulated_queries_prf[qid] = reformulate_query_with_prf(query, top_docs_content, model, tokenizer)\n",
        "print(reformulated_queries_prf)"
      ],
      "metadata": {
        "colab": {
          "base_uri": "https://localhost:8080/"
        },
        "id": "IMWb5lTj3SN-",
        "outputId": "8cd623a4-73dd-4f42-b29d-142c2a7c17d9"
      },
      "execution_count": null,
      "outputs": [
        {
          "output_type": "stream",
          "name": "stderr",
          "text": [
            "\rProcessing queries with PRF:   0%|          | 0/43 [00:00<?, ?it/s]/usr/local/lib/python3.10/dist-packages/bitsandbytes/nn/modules.py:426: UserWarning: Input type into Linear4bit is torch.float16, but bnb_4bit_compute_dtype=torch.float32 (default). This will lead to slow inference or training speed.\n",
            "  warnings.warn(\n",
            "Processing queries with PRF:  98%|█████████▊| 42/43 [58:11<01:55, 115.35s/it]"
          ]
        }
      ]
    },
    {
      "cell_type": "markdown",
      "source": [
        "### Evaluation"
      ],
      "metadata": {
        "id": "KCiKO2EFE7tH"
      }
    },
    {
      "cell_type": "markdown",
      "source": [
        "Without PRF"
      ],
      "metadata": {
        "id": "hVDiLrjBEjd-"
      }
    },
    {
      "cell_type": "code",
      "source": [
        "import tqdm\n",
        "import numpy as np\n",
        "import pytrec_eval\n",
        "from sentence_transformers.cross_encoder import CrossEncoder\n",
        "\n",
        "#model_save_path = os.path.join(\"/content/MiniLM\")\n",
        "#model_save_path = os.path.join(\"/content/tinyBERT\")\n",
        "model_save_path = os.path.join(\"/content/gdrive/MyDrive/cross-encoder-reranker-ir-course-2023/finetuned_models/cross-encoder-distilbert-distilroberta-base-2024-05-05_10-29-29\")\n",
        "\n",
        "\n",
        "queries_result_list = []\n",
        "run = {}\n",
        "model = CrossEncoder(model_save_path, max_length=512)\n",
        "\n",
        "for qid in tqdm.tqdm(relevant_qid):\n",
        "    query = queries[qid]\n",
        "\n",
        "    cand = passage_cand[qid]\n",
        "    pids = [c[0] for c in cand]\n",
        "    corpus_sentences = [c[1] for c in cand]\n",
        "\n",
        "    cross_inp = [[query, sent] for sent in corpus_sentences]\n",
        "\n",
        "    if model.config.num_labels > 1: #Cross-Encoder that predict more than 1 score, we use the last and apply softmax\n",
        "        cross_scores = model.predict(cross_inp, apply_softmax=True)[:, 1].tolist()\n",
        "    else:\n",
        "        cross_scores = model.predict(cross_inp).tolist()\n",
        "\n",
        "    cross_scores_sparse = {}\n",
        "    for idx, pid in enumerate(pids):\n",
        "        cross_scores_sparse[pid] = cross_scores[idx]\n",
        "\n",
        "    sparse_scores = cross_scores_sparse\n",
        "    run[qid] = {}\n",
        "    for pid in sparse_scores:\n",
        "        run[qid][pid] = float(sparse_scores[pid])"
      ],
      "metadata": {
        "id": "biQrxo3aEimb",
        "colab": {
          "base_uri": "https://localhost:8080/"
        },
        "outputId": "1b8e6439-29a9-4e5b-c608-ad0d3706c6d9"
      },
      "execution_count": null,
      "outputs": [
        {
          "output_type": "stream",
          "name": "stderr",
          "text": [
            "100%|██████████| 43/43 [00:23<00:00,  1.85it/s]\n"
          ]
        }
      ]
    },
    {
      "cell_type": "code",
      "source": [
        "evaluator = pytrec_eval.RelevanceEvaluator(relevant_docs, {'ndcg_cut.10', 'recall_100', 'map_cut.1000'})\n",
        "scores = evaluator.evaluate(run)\n",
        "\n",
        "print(\"Evaluation without PRF\")\n",
        "print(\"Queries:\", len(relevant_qid))\n",
        "print(\"NDCG@10: {:.2f}\".format(np.mean([ele[\"ndcg_cut_10\"] for ele in scores.values()])*100))\n",
        "print(\"Recall@100: {:.2f}\".format(np.mean([ele[\"recall_100\"] for ele in scores.values()])*100))\n",
        "print(\"MAP@1000: {:.2f}\".format(np.mean([ele[\"map_cut_1000\"] for ele in scores.values()])*100))"
      ],
      "metadata": {
        "id": "8B7ZT10uEwg1",
        "colab": {
          "base_uri": "https://localhost:8080/"
        },
        "outputId": "182fcb0c-be53-4a3c-dc01-8fd761816c2e"
      },
      "execution_count": null,
      "outputs": [
        {
          "output_type": "stream",
          "name": "stdout",
          "text": [
            "Evaluation without PRF\n",
            "Queries: 43\n",
            "NDCG@10: 68.03\n",
            "Recall@100: 49.29\n",
            "MAP@1000: 43.39\n"
          ]
        }
      ]
    },
    {
      "cell_type": "markdown",
      "source": [
        "With PRF"
      ],
      "metadata": {
        "id": "pJayuxvLFUKQ"
      }
    },
    {
      "cell_type": "code",
      "source": [
        "prompted_queries_result_list = []\n",
        "prompted_run = {}\n",
        "model = CrossEncoder(model_save_path, max_length=512)\n",
        "\n",
        "for qid in tqdm.tqdm(relevant_qid):\n",
        "    query = reformulated_queries_prf[qid]\n",
        "\n",
        "    cand = passage_cand[qid]\n",
        "    pids = [c[0] for c in cand]\n",
        "    corpus_sentences = [c[1] for c in cand]\n",
        "\n",
        "    cross_inp = [[query, sent] for sent in corpus_sentences]\n",
        "\n",
        "    if model.config.num_labels > 1: #Cross-Encoder that predict more than 1 score, we use the last and apply softmax\n",
        "        cross_scores = model.predict(cross_inp, apply_softmax=True)[:, 1].tolist()\n",
        "    else:\n",
        "        cross_scores = model.predict(cross_inp).tolist()\n",
        "\n",
        "    cross_scores_sparse = {}\n",
        "    for idx, pid in enumerate(pids):\n",
        "        cross_scores_sparse[pid] = cross_scores[idx]\n",
        "\n",
        "    sparse_scores = cross_scores_sparse\n",
        "    prompted_run[qid] = {}\n",
        "    for pid in sparse_scores:\n",
        "        prompted_run[qid][pid] = float(sparse_scores[pid])"
      ],
      "metadata": {
        "id": "qTiNjntbFSxL",
        "colab": {
          "base_uri": "https://localhost:8080/"
        },
        "outputId": "029bb0c8-31f1-48c4-916d-8d7ecabca3be"
      },
      "execution_count": null,
      "outputs": [
        {
          "output_type": "stream",
          "name": "stderr",
          "text": [
            "100%|██████████| 43/43 [01:17<00:00,  1.79s/it]\n"
          ]
        }
      ]
    },
    {
      "cell_type": "code",
      "source": [
        "evaluator_prompted = pytrec_eval.RelevanceEvaluator(relevant_docs, {'ndcg_cut.10', 'recall_100', 'map_cut.1000'})\n",
        "scores_prompted = evaluator_prompted.evaluate(prompted_run)\n",
        "\n",
        "print(\"Evaluation with PRF\")\n",
        "print(\"Queries:\", len(reformulated_queries_prf))\n",
        "print(\"NDCG@10: {:.2f}\".format(np.mean([ele[\"ndcg_cut_10\"] for ele in scores_prompted.values()])*100))\n",
        "print(\"Recall@100: {:.2f}\".format(np.mean([ele[\"recall_100\"] for ele in scores_prompted.values()])*100))\n",
        "print(\"MAP@1000: {:.2f}\".format(np.mean([ele[\"map_cut_1000\"] for ele in scores_prompted.values()])*100))"
      ],
      "metadata": {
        "id": "RzFf7ZhoFWl1",
        "colab": {
          "base_uri": "https://localhost:8080/"
        },
        "outputId": "52776a15-bd05-477c-8f1f-70a985331f2f"
      },
      "execution_count": null,
      "outputs": [
        {
          "output_type": "stream",
          "name": "stdout",
          "text": [
            "Evaluation with PRF\n",
            "Queries: 43\n",
            "NDCG@10: 46.30\n",
            "Recall@100: 35.49\n",
            "MAP@1000: 28.20\n"
          ]
        }
      ]
    }
  ]
}